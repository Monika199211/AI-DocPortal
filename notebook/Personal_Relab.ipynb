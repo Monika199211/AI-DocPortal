{
 "cells": [
  {
   "cell_type": "code",
   "execution_count": 48,
   "id": "5066d66f",
   "metadata": {},
   "outputs": [
    {
     "name": "stdout",
     "output_type": "stream",
     "text": [
      "all ok\n"
     ]
    }
   ],
   "source": [
    "print(\"all ok\")"
   ]
  },
  {
   "cell_type": "code",
   "execution_count": 49,
   "id": "36bcb213",
   "metadata": {},
   "outputs": [],
   "source": [
    "from langchain_groq import ChatGroq\n",
    "from dotenv import load_dotenv\n",
    "from langchain_google_genai import GoogleGenerativeAIEmbeddings"
   ]
  },
  {
   "cell_type": "code",
   "execution_count": 50,
   "id": "3f91752f",
   "metadata": {},
   "outputs": [
    {
     "data": {
      "text/plain": [
       "True"
      ]
     },
     "execution_count": 50,
     "metadata": {},
     "output_type": "execute_result"
    }
   ],
   "source": [
    "load_dotenv()"
   ]
  },
  {
   "cell_type": "code",
   "execution_count": 51,
   "id": "f5b1ee25",
   "metadata": {},
   "outputs": [],
   "source": [
    "llm=ChatGroq(model=\"qwen/qwen3-32b\")"
   ]
  },
  {
   "cell_type": "code",
   "execution_count": 52,
   "id": "c0343823",
   "metadata": {},
   "outputs": [],
   "source": [
    "#llm.invoke(\"Top 5 Best Area to live in Auckland?\")"
   ]
  },
  {
   "cell_type": "code",
   "execution_count": 53,
   "id": "ee103616",
   "metadata": {},
   "outputs": [],
   "source": [
    "embedding_model=GoogleGenerativeAIEmbeddings(model=\"models/embedding-001\")"
   ]
  },
  {
   "cell_type": "code",
   "execution_count": 54,
   "id": "48d2daf4",
   "metadata": {},
   "outputs": [],
   "source": [
    "#embedding_model.embed_query(\"Why sky is blue?\")"
   ]
  },
  {
   "cell_type": "markdown",
   "id": "d4ecbfd0",
   "metadata": {},
   "source": [
    "## 1. Data Ingestion"
   ]
  },
  {
   "cell_type": "code",
   "execution_count": 55,
   "id": "9851f08c",
   "metadata": {},
   "outputs": [],
   "source": [
    "from langchain.document_loaders import PyPDFLoader"
   ]
  },
  {
   "cell_type": "code",
   "execution_count": 56,
   "id": "31326be6",
   "metadata": {},
   "outputs": [],
   "source": [
    "from langchain.text_splitter import RecursiveCharacterTextSplitter\n",
    "from langchain.vectorstores import FAISS"
   ]
  },
  {
   "cell_type": "code",
   "execution_count": 57,
   "id": "6056a9fb",
   "metadata": {},
   "outputs": [],
   "source": [
    "import os"
   ]
  },
  {
   "cell_type": "code",
   "execution_count": 58,
   "id": "6d936c05",
   "metadata": {},
   "outputs": [
    {
     "data": {
      "text/plain": [
       "'/Users/monikabadadhe/Documents/AI_Projects/document_portal_monika/notebook'"
      ]
     },
     "execution_count": 58,
     "metadata": {},
     "output_type": "execute_result"
    }
   ],
   "source": [
    "os.getcwd()"
   ]
  },
  {
   "cell_type": "code",
   "execution_count": 59,
   "id": "5c9af91d",
   "metadata": {},
   "outputs": [],
   "source": [
    "folder_path=os.path.join(os.getcwd(),\"data\",\"8_Hague_Place\")"
   ]
  },
  {
   "cell_type": "code",
   "execution_count": 60,
   "id": "d76a247f",
   "metadata": {},
   "outputs": [],
   "source": [
    "all_docs = []"
   ]
  },
  {
   "cell_type": "code",
   "execution_count": 61,
   "id": "5ca7885c",
   "metadata": {},
   "outputs": [],
   "source": [
    "for file in os.listdir(folder_path):\n",
    "    if file.endswith(\".pdf\"):\n",
    "        pdf_path = os.path.join(folder_path, file)\n",
    "        loader = PyPDFLoader(pdf_path)\n",
    "        all_docs.extend(loader.load())\n"
   ]
  },
  {
   "cell_type": "code",
   "execution_count": 62,
   "id": "bcd954cf",
   "metadata": {},
   "outputs": [
    {
     "name": "stdout",
     "output_type": "stream",
     "text": [
      "Loaded a total of 60 document pages from all PDFs.\n"
     ]
    }
   ],
   "source": [
    "print(f\"Loaded a total of {len(all_docs)} document pages from all PDFs.\")"
   ]
  },
  {
   "cell_type": "code",
   "execution_count": 63,
   "id": "0958cc26",
   "metadata": {},
   "outputs": [
    {
     "data": {
      "text/plain": [
       "60"
      ]
     },
     "execution_count": 63,
     "metadata": {},
     "output_type": "execute_result"
    }
   ],
   "source": [
    "len(all_docs)"
   ]
  },
  {
   "cell_type": "markdown",
   "id": "810abefd",
   "metadata": {},
   "source": [
    "##### Note: Every document above provides an individual page\n",
    "\n",
    "##### this is a experimental there is no deterministic way to split the text"
   ]
  },
  {
   "cell_type": "code",
   "execution_count": 64,
   "id": "aaf77c62",
   "metadata": {},
   "outputs": [],
   "source": [
    "\n",
    "text_splitter= RecursiveCharacterTextSplitter(\n",
    "\n",
    "    chunk_size= 500,\n",
    "    chunk_overlap=150,\n",
    "    length_function=len\n",
    ")"
   ]
  },
  {
   "cell_type": "code",
   "execution_count": 65,
   "id": "dfe3cf0c",
   "metadata": {},
   "outputs": [
    {
     "data": {
      "text/plain": [
       "295"
      ]
     },
     "execution_count": 65,
     "metadata": {},
     "output_type": "execute_result"
    }
   ],
   "source": [
    "docs=text_splitter.split_documents(all_docs)\n",
    "len(docs)"
   ]
  },
  {
   "cell_type": "code",
   "execution_count": 66,
   "id": "f02f67ef",
   "metadata": {},
   "outputs": [
    {
     "data": {
      "text/plain": [
       "{'producer': 'iText® 5.5.2 ©2000-2014 iText Group NV (AGPL-version)',\n",
       " 'creator': 'PyPDF',\n",
       " 'creationdate': '2025-07-10T14:23:22+12:00',\n",
       " 'moddate': '2025-07-10T14:58:10+12:00',\n",
       " 'source': '/Users/monikabadadhe/Documents/AI_Projects/document_portal_monika/notebook/data/8_Hague_Place/LIM - 8 Hague Place, Birkenhead.pdf',\n",
       " 'total_pages': 34,\n",
       " 'page': 0,\n",
       " 'page_label': '1'}"
      ]
     },
     "execution_count": 66,
     "metadata": {},
     "output_type": "execute_result"
    }
   ],
   "source": [
    "docs[0].metadata"
   ]
  },
  {
   "cell_type": "code",
   "execution_count": 67,
   "id": "14f55022",
   "metadata": {},
   "outputs": [
    {
     "data": {
      "text/plain": [
       "'Cooper & Co Real Estate Ltd \\nLicensed REAA 2008\\nLand Information Memorandum (LIM) Disclaimer\\nDisclaimer:\\nThis Land Information Memorandum (LIM) has been obtained from the Auckland Council and copies are \\nmade available to prospective Purchasers and interested parties for general information purposes only. \\nThe information originates from a third party (Auckland Council) and not from the real estate agent, \\nCooper and Co Real Estate Ltd, or from the Vendors.'"
      ]
     },
     "execution_count": 67,
     "metadata": {},
     "output_type": "execute_result"
    }
   ],
   "source": [
    "docs[0].page_content"
   ]
  },
  {
   "cell_type": "code",
   "execution_count": 68,
   "id": "9d90709b",
   "metadata": {},
   "outputs": [
    {
     "data": {
      "text/plain": [
       "768"
      ]
     },
     "execution_count": 68,
     "metadata": {},
     "output_type": "execute_result"
    }
   ],
   "source": [
    "len(embedding_model.embed_documents(docs[0].page_content)[0])"
   ]
  },
  {
   "cell_type": "code",
   "execution_count": 69,
   "id": "c36b2949",
   "metadata": {},
   "outputs": [],
   "source": [
    "vectors=FAISS.from_documents(docs, embedding_model)"
   ]
  },
  {
   "cell_type": "code",
   "execution_count": 70,
   "id": "efed9628",
   "metadata": {},
   "outputs": [],
   "source": [
    "#### In Memory Vector Store or disk storage: FAISS\n",
    "#### Cloud: pineccne, weaviate, milvus, mongodbvectorserach,astradb"
   ]
  },
  {
   "cell_type": "markdown",
   "id": "eb872cac",
   "metadata": {},
   "source": [
    "## Retrieval Process"
   ]
  },
  {
   "cell_type": "code",
   "execution_count": 71,
   "id": "e0ba13e5",
   "metadata": {},
   "outputs": [
    {
     "data": {
      "text/plain": [
       "[Document(id='410571f2-386c-4ad7-a370-2a7b58029d10', metadata={'producer': 'iText® 5.5.2 ©2000-2014 iText Group NV (AGPL-version)', 'creator': 'PyPDF', 'creationdate': '2025-07-10T14:23:22+12:00', 'moddate': '2025-07-10T14:58:10+12:00', 'source': '/Users/monikabadadhe/Documents/AI_Projects/document_portal_monika/notebook/data/8_Hague_Place/LIM - 8 Hague Place, Birkenhead.pdf', 'total_pages': 34, 'page': 5, 'page_label': '6'}, page_content='Page 5 \\nAuckland Council (09) 301 0101 or enquiries@aucklandcouncil.govt.nz8270611814LIM 10/07/2025\\nResource Management\\nPlanning\\nThere are NO Planning resource consents recorded.\\nSubdivisions\\nThere are NO Subdivision resource consents recorded.\\nEngineering Approvals\\nThere are NO Engineering approvals recorded.\\nIf there are any conditions, please refer to the Property File. The applicant should satisfy themselves as to'),\n",
       " Document(id='b8aa9662-16dd-448e-8ce6-19aa0280ce69', metadata={'producer': 'iText® 5.5.2 ©2000-2014 iText Group NV (AGPL-version)', 'creator': 'PyPDF', 'creationdate': '2025-07-10T14:23:22+12:00', 'moddate': '2025-07-10T14:58:10+12:00', 'source': '/Users/monikabadadhe/Documents/AI_Projects/document_portal_monika/notebook/data/8_Hague_Place/LIM - 8 Hague Place, Birkenhead.pdf', 'total_pages': 34, 'page': 1, 'page_label': '2'}, page_content='Council has not carried out an inspection of the land and/or buildings for the purpose of preparing this \\nLIM. Council records may not show illegal or unauthorised building or works on the land. \\nThe applicant is solely responsible for ensuring that the land or any building on the land is suitable for a \\nparticular purpose and for sourcing other information held by the council or other bodies. In addition, the'),\n",
       " Document(id='54fde6d7-6cf3-4c5c-9bc9-798747baad91', metadata={'producer': 'iText® 5.5.2 ©2000-2014 iText Group NV (AGPL-version)', 'creator': 'PyPDF', 'creationdate': '2025-07-10T14:23:22+12:00', 'moddate': '2025-07-10T14:58:10+12:00', 'source': '/Users/monikabadadhe/Documents/AI_Projects/document_portal_monika/notebook/data/8_Hague_Place/LIM - 8 Hague Place, Birkenhead.pdf', 'total_pages': 34, 'page': 5, 'page_label': '6'}, page_content='If there are any conditions, please refer to the Property File. The applicant should satisfy themselves as to \\nwhether all conditions of resource consents for this property have been met. To obtain Resource Consent \\ndocuments a Property File will need to be requested How to order a property file (aucklandcouncil.govt.nz) \\n \\nFurther Information\\nThe Council may hold additional information for this property, for example concerning resource consents for'),\n",
       " Document(id='72fb14df-4090-4083-b84c-bc10472da76d', metadata={'producer': 'PDFKit.NET 12.3.488.0 DMV10', 'creator': 'Acrobat PDFMaker 24 for Word', 'creationdate': '2024-05-08T10:49:15+12:00', 'author': 'Angela Temata', 'contenttypeid': '0x010100247AA29C13E10F4FB42944395B59F800', 'moddate': '2025-07-14T17:33:56-07:00', 'source': '/Users/monikabadadhe/Documents/AI_Projects/document_portal_monika/notebook/data/8_Hague_Place/Disclaimer Severe Weather Event.pdf', 'total_pages': 1, 'page': 0, 'page_label': '1'}, page_content='[List areas here or delete] \\n1. \\n2 \\n3. \\nFor your protection and due diligence, prior to purchasing this property we advise you to seek independent \\nadvice from a building inspector, insurance advisor, and solicitor. \\nYo\\nu should make your own investigations with your lawyer, the Auckland City Council, a Building Inspector and any \\nother desired advisors and you should be satisfied that any adviser or building report is to the New Zealand \\nstandards.  \\nSi')]"
      ]
     },
     "execution_count": 71,
     "metadata": {},
     "output_type": "execute_result"
    }
   ],
   "source": [
    "relevant_document=vectors.similarity_search(\"Can development be done on this property?\")\n",
    "relevant_document"
   ]
  },
  {
   "cell_type": "code",
   "execution_count": 72,
   "id": "efaa9afa",
   "metadata": {},
   "outputs": [
    {
     "data": {
      "text/plain": [
       "'If there are any conditions, please refer to the Property File. The applicant should satisfy themselves as to \\nwhether all conditions of resource consents for this property have been met. To obtain Resource Consent \\ndocuments a Property File will need to be requested How to order a property file (aucklandcouncil.govt.nz) \\n \\nFurther Information\\nThe Council may hold additional information for this property, for example concerning resource consents for'"
      ]
     },
     "execution_count": 72,
     "metadata": {},
     "output_type": "execute_result"
    }
   ],
   "source": [
    "relevant_document[2].page_content"
   ]
  },
  {
   "cell_type": "code",
   "execution_count": 73,
   "id": "bb5eea95",
   "metadata": {},
   "outputs": [],
   "source": [
    "relevant_document=vectors.similarity_search(\"Can development be done on this property?\",k=10)"
   ]
  },
  {
   "cell_type": "code",
   "execution_count": 74,
   "id": "06bd91ee",
   "metadata": {},
   "outputs": [],
   "source": [
    "retriever=vectors.as_retriever()"
   ]
  },
  {
   "cell_type": "markdown",
   "id": "38ed71c4",
   "metadata": {},
   "source": [
    "### Question: user question\n",
    "### Context: based on the question retrieving the info from the vector database"
   ]
  },
  {
   "cell_type": "code",
   "execution_count": 75,
   "id": "b4e93459",
   "metadata": {},
   "outputs": [],
   "source": [
    "prompt_template = \"\"\"\n",
    "        Answer the question based on the context provided below. \n",
    "        If the context does not contain sufficient information, respond with: \n",
    "        \"I do not have enough information about this.\"\n",
    "\n",
    "        Context: {context}\n",
    "\n",
    "        Question: {question}\n",
    "\n",
    "        Answer:\"\"\"\n"
   ]
  },
  {
   "cell_type": "code",
   "execution_count": 76,
   "id": "cbb98c76",
   "metadata": {},
   "outputs": [],
   "source": [
    "from langchain.prompts import PromptTemplate\n"
   ]
  },
  {
   "cell_type": "code",
   "execution_count": 77,
   "id": "309ebb6a",
   "metadata": {},
   "outputs": [],
   "source": [
    "\n",
    "prompt=PromptTemplate(\n",
    "    template=prompt_template,\n",
    "    input_variables=[\"context\", \"question\"]\n",
    ")"
   ]
  },
  {
   "cell_type": "code",
   "execution_count": 78,
   "id": "61962d82",
   "metadata": {},
   "outputs": [
    {
     "data": {
      "text/plain": [
       "PromptTemplate(input_variables=['context', 'question'], input_types={}, partial_variables={}, template='\\n        Answer the question based on the context provided below. \\n        If the context does not contain sufficient information, respond with: \\n        \"I do not have enough information about this.\"\\n\\n        Context: {context}\\n\\n        Question: {question}\\n\\n        Answer:')"
      ]
     },
     "execution_count": 78,
     "metadata": {},
     "output_type": "execute_result"
    }
   ],
   "source": [
    "prompt\n"
   ]
  },
  {
   "cell_type": "code",
   "execution_count": 79,
   "id": "1da3261e",
   "metadata": {},
   "outputs": [],
   "source": [
    "from langchain_core.output_parsers import StrOutputParser\n"
   ]
  },
  {
   "cell_type": "code",
   "execution_count": 80,
   "id": "b198a138",
   "metadata": {},
   "outputs": [],
   "source": [
    "parser=StrOutputParser()\n"
   ]
  },
  {
   "cell_type": "code",
   "execution_count": 81,
   "id": "7c1b9256",
   "metadata": {},
   "outputs": [],
   "source": [
    "def format_docs(docs):\n",
    "    return \"\\n\\n\".join([doc.page_content for doc in docs])"
   ]
  },
  {
   "cell_type": "code",
   "execution_count": 82,
   "id": "c7509204",
   "metadata": {},
   "outputs": [],
   "source": [
    "from langchain_core.runnables import RunnablePassthrough"
   ]
  },
  {
   "cell_type": "code",
   "execution_count": 83,
   "id": "1445a517",
   "metadata": {},
   "outputs": [],
   "source": [
    "\n",
    "rag_chain = (\n",
    "    {\"context\": retriever | format_docs, \"question\": RunnablePassthrough()}\n",
    "    | prompt\n",
    "    | llm\n",
    "    | StrOutputParser()\n",
    ")"
   ]
  },
  {
   "cell_type": "code",
   "execution_count": 84,
   "id": "70454281",
   "metadata": {},
   "outputs": [
    {
     "data": {
      "text/plain": [
       "'<think>\\nOkay, let\\'s try to figure out if there was any damage to the property due to a weather event based on the context provided.\\n\\nFirst, looking at the context, there\\'s a disclosure section from the vendor. They mention two possible severe weather events: flash flooding on specific dates in January 2023 and Cyclone Gabrielle in February 2023. The vendor\\'s statement says \"To the best of the Vendor\\'s knowledge, the property was/ was not (delete one) affected by one or both of the following...\" So, the key here is whether the vendor crossed out \"was not\" or \"was\". If they deleted \"was not\", then the property was affected; if they deleted \"was\", then it wasn\\'t.\\n\\nBut wait, in the context provided, it\\'s written as \"was/ was not (delete one)\". The way it\\'s presented here, the user might not have the actual document where one is crossed out. Since the context as given includes both options and doesn\\'t specify which was deleted, we don\\'t know for sure. There\\'s no indication in the provided text about which one was actually chosen. The vendor is supposed to confirm whether the property was affected, but the context here doesn\\'t show that confirmation. \\n\\nAdditionally, under \"List areas here or delete\", there are three points, but they\\'re empty. If the vendor had information about areas affected, they would have filled those in, but they\\'re blank here. So maybe that\\'s another clue. If the vendor didn\\'t list any areas, perhaps they intended to say the property wasn\\'t affected. However, the disclosure is a standard form, and the absence of areas listed might just mean the vendor didn\\'t provide that detail yet or chose not to. \\n\\nAlso, there\\'s a mention of \"Market Comparisons\" from July 2025, but that doesn\\'t seem directly related to the damage history. The rest of the text is about disclaimers and advice for the buyer to get their own inspections. \\n\\nSince the critical part of the disclosure is ambiguous (we don\\'t know which option was deleted), and the areas affected are not listed, we can\\'t definitively say whether there was damage. The information is insufficient. The answer should be that there isn\\'t enough information because the key part of the form (whether the property was affected) isn\\'t confirmed in the provided context.\\n</think>\\n\\nI do not have enough information about this.'"
      ]
     },
     "execution_count": 84,
     "metadata": {},
     "output_type": "execute_result"
    }
   ],
   "source": [
    "rag_chain.invoke(\"was there any damage because of any weather event in this property\")"
   ]
  },
  {
   "cell_type": "code",
   "execution_count": 87,
   "id": "3183c229",
   "metadata": {},
   "outputs": [
    {
     "data": {
      "text/plain": [
       "'<think>\\nOkay, I need to answer the user\\'s question based on the provided context. Let me check the context first. Wait, the context is empty here. The user mentioned that if the context doesn\\'t have enough info, I should respond with \"I do not have enough information about this.\" Since there\\'s no context given, I definitely can\\'t find the answer there. So I should let them know I don\\'t have enough info.\\n</think>\\n\\nI do not have enough information about this.'"
      ]
     },
     "execution_count": 87,
     "metadata": {},
     "output_type": "execute_result"
    }
   ],
   "source": [
    "rag_chain.invoke(\"What is the cladding material? give me the name of cladding\")"
   ]
  },
  {
   "cell_type": "code",
   "execution_count": null,
   "id": "cf4bd1de",
   "metadata": {},
   "outputs": [],
   "source": []
  }
 ],
 "metadata": {
  "kernelspec": {
   "display_name": "Python 3",
   "language": "python",
   "name": "python3"
  },
  "language_info": {
   "codemirror_mode": {
    "name": "ipython",
    "version": 3
   },
   "file_extension": ".py",
   "mimetype": "text/x-python",
   "name": "python",
   "nbconvert_exporter": "python",
   "pygments_lexer": "ipython3",
   "version": "3.10.18"
  }
 },
 "nbformat": 4,
 "nbformat_minor": 5
}
